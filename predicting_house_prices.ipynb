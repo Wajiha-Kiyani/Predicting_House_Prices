{
 "cells": [
  {
   "cell_type": "markdown",
   "metadata": {},
   "source": [
    "#### **Project Title:**  ***\"Predicting House Prices\"***\n",
    "##### **Dataset:** *\"Boston Housing Dataset\"*\n",
    "##### **Step 01:** Loading Important Libraries"
   ]
  },
  {
   "cell_type": "code",
   "execution_count": null,
   "metadata": {},
   "outputs": [],
   "source": [
    "#For data manipulation and analysis.\n",
    "import pandas as pd  \n",
    "#For numerical computations.\n",
    "import numpy as np  \n",
    "#For feature scaling.\n",
    "from sklearn.preprocessing import MinMaxScaler  \n",
    "#For handling missing values.\n",
    "from sklearn.impute import SimpleImputer  \n",
    "#For splitting the data into training and testing sets.\n",
    "from sklearn.model_selection import train_test_split \n",
    "#For model evaluation. \n",
    "from sklearn.metrics import mean_squared_error, r2_score \n",
    "#For data visualization. \n",
    "import matplotlib.pyplot as plt  \n",
    "#For creating statistical graphics.\n",
    "import seaborn as sns  \n",
    "#For Random Forest Regressor model.\n",
    "from sklearn.ensemble import RandomForestRegressor  \n",
    "#For XGBoost Regressor model.\n",
    "from xgboost import XGBRegressor  "
   ]
  },
  {
   "cell_type": "markdown",
   "metadata": {},
   "source": [
    "##### **Step 02:** Data Preprocessing"
   ]
  },
  {
   "cell_type": "code",
   "execution_count": null,
   "metadata": {},
   "outputs": [
    {
     "name": "stdout",
     "output_type": "stream",
     "text": [
      "CRIM       20\n",
      "ZN         20\n",
      "INDUS      20\n",
      "CHAS       20\n",
      "NOX         0\n",
      "RM          0\n",
      "AGE        20\n",
      "DIS         0\n",
      "RAD         0\n",
      "TAX         0\n",
      "PTRATIO     0\n",
      "B           0\n",
      "LSTAT      20\n",
      "MEDV        0\n",
      "dtype: int64\n",
      "Processed data:\n",
      "       CRIM    ZN     INDUS  CHAS       NOX        RM       AGE       DIS  \\\n",
      "0  0.000000  0.18  0.067815   0.0  0.314815  0.577505  0.641607  0.269203   \n",
      "1  0.000236  0.00  0.242302   0.0  0.172840  0.547998  0.782698  0.348962   \n",
      "2  0.000236  0.00  0.242302   0.0  0.172840  0.694386  0.599382  0.348962   \n",
      "3  0.000293  0.00  0.063050   0.0  0.150206  0.658555  0.441813  0.448545   \n",
      "4  0.000705  0.00  0.063050   0.0  0.150206  0.687105  0.528321  0.448545   \n",
      "\n",
      "        RAD       TAX   PTRATIO         B     LSTAT  MEDV  \n",
      "0  0.000000  0.208015  0.287234  1.000000  0.089680  24.0  \n",
      "1  0.043478  0.104962  0.553191  1.000000  0.204470  21.6  \n",
      "2  0.043478  0.104962  0.553191  0.989737  0.063466  34.7  \n",
      "3  0.086957  0.066794  0.648936  0.994276  0.033389  33.4  \n",
      "4  0.086957  0.066794  0.648936  1.000000       NaN  36.2  \n"
     ]
    }
   ],
   "source": [
    "#Loading dataset from CSV.\n",
    "df = pd.read_csv(\"boston_housing_dataset.csv\")\n",
    "#Check for missing values.\n",
    "print(df.isnull().sum())\n",
    "#Separate target variable (assuming 'MEDV' is the target column).\n",
    "target_col = 'MEDV'\n",
    "features = df.drop(columns=[target_col])\n",
    "target = df[target_col]\n",
    "#Normalize numerical features.\n",
    "scaler = MinMaxScaler()\n",
    "df[features.columns] = scaler.fit_transform(features)\n",
    "#Display processed data.\n",
    "print(\"Processed data:\")\n",
    "print(df.head())"
   ]
  },
  {
   "cell_type": "code",
   "execution_count": null,
   "metadata": {},
   "outputs": [],
   "source": [
    "#Split data into training and testing sets.\n",
    "X = df.drop(columns=[target_col]).values\n",
    "y = df[target_col].values\n",
    "X_train, X_test, y_train, y_test = train_test_split(X, y, test_size=0.2, random_state=42)"
   ]
  },
  {
   "cell_type": "markdown",
   "metadata": {},
   "source": [
    "##### **Step 03:** Model Implementation"
   ]
  },
  {
   "cell_type": "code",
   "execution_count": null,
   "metadata": {},
   "outputs": [],
   "source": [
    "#Linear Regression (from scratch).\n",
    "class LinearRegressionScratch:\n",
    "    def __init__(self, learning_rate=0.01, epochs=1000):\n",
    "        self.learning_rate = learning_rate\n",
    "        self.epochs = epochs\n",
    "        self.weights = None\n",
    "        self.bias = None\n",
    "    def fit(self, X, y):\n",
    "        n_samples, n_features = X.shape\n",
    "        self.weights = np.zeros(n_features)\n",
    "        self.bias = 0\n",
    "        #Gradient Descent.\n",
    "        for _ in range(self.epochs):\n",
    "            y_pred = np.dot(X, self.weights) + self.bias\n",
    "            dw = (1 / n_samples) * np.dot(X.T, (y_pred - y))\n",
    "            db = (1 / n_samples) * np.sum(y_pred - y)\n",
    "\n",
    "            self.weights -= self.learning_rate * dw\n",
    "            self.bias -= self.learning_rate * db\n",
    "    def predict(self, X):\n",
    "        return np.dot(X, self.weights) + self.bias"
   ]
  },
  {
   "cell_type": "code",
   "execution_count": null,
   "metadata": {},
   "outputs": [],
   "source": [
    "#Random Forest (from scratch).\n",
    "class DecisionTreeScratch:\n",
    "    def __init__(self, max_depth=5, min_samples_split=2):\n",
    "        self.max_depth = max_depth\n",
    "        self.min_samples_split = min_samples_split\n",
    "        self.tree = None\n",
    "    def fit(self, X, y):\n",
    "        self.tree = self._grow_tree(X, y, depth=0)\n",
    "    def _grow_tree(self, X, y, depth):\n",
    "        n_samples, n_features = X.shape\n",
    "        if depth >= self.max_depth or n_samples < self.min_samples_split:\n",
    "            return np.mean(y)\n",
    "        #Find best split.\n",
    "        best_feature, best_threshold = self._best_split(X, y)\n",
    "        #Check if a valid split was found.\n",
    "        if best_feature is None or best_threshold is None:\n",
    "            return np.mean(y)\n",
    "        left_idx = X[:, best_feature] < best_threshold\n",
    "        right_idx = ~left_idx\n",
    "        return {\n",
    "            'feature': best_feature,\n",
    "            'threshold': best_threshold,\n",
    "            'left': self._grow_tree(X[left_idx], y[left_idx], depth + 1),\n",
    "            'right': self._grow_tree(X[right_idx], y[right_idx], depth + 1)\n",
    "            }\n",
    "    def _best_split(self, X, y):\n",
    "        best_feature, best_threshold, best_mse = None, None, float('inf')\n",
    "        for feature in range(X.shape[1]):\n",
    "            thresholds = np.unique(X[:, feature])\n",
    "            for threshold in thresholds:\n",
    "                left_y, right_y = y[X[:, feature] < threshold], y[X[:, feature] >= threshold]\n",
    "                mse = np.var(left_y) * len(left_y) + np.var(right_y) * len(right_y)\n",
    "                if mse < best_mse:\n",
    "                    best_feature, best_threshold, best_mse = feature, threshold, mse\n",
    "        return best_feature, best_threshold\n",
    "    def predict(self, X):\n",
    "        return np.array([self._traverse_tree(x, self.tree) for x in X])\n",
    "    def _traverse_tree(self, x, node):\n",
    "        if isinstance(node, dict):\n",
    "            if x[node['feature']] < node['threshold']:\n",
    "                return self._traverse_tree(x, node['left'])\n",
    "            return self._traverse_tree(x, node['right'])\n",
    "        return node\n",
    "\n",
    "class RandomForestScratch:\n",
    "    def __init__(self, n_trees=10, max_depth=5):\n",
    "        self.n_trees = n_trees\n",
    "        self.max_depth = max_depth\n",
    "        self.trees = []\n",
    "    def fit(self, X, y):\n",
    "        for _ in range(self.n_trees):\n",
    "            sample_idx = np.random.choice(len(X), len(X), replace=True)\n",
    "            X_sample, y_sample = X[sample_idx], y[sample_idx]\n",
    "            tree = DecisionTreeScratch(max_depth=self.max_depth)\n",
    "            tree.fit(X_sample, y_sample)\n",
    "            self.trees.append(tree)\n",
    "    def predict(self, X):\n",
    "        predictions = np.array([tree.predict(X) for tree in self.trees])\n",
    "        return np.mean(predictions, axis=0)"
   ]
  },
  {
   "cell_type": "code",
   "execution_count": null,
   "metadata": {},
   "outputs": [],
   "source": [
    "#XGBoost (from scratch).\n",
    "class XGBoostScratch:\n",
    "    def __init__(self, n_estimators=100, learning_rate=0.1, max_depth=3):\n",
    "        self.n_estimators = n_estimators\n",
    "        self.learning_rate = learning_rate\n",
    "        self.max_depth = max_depth\n",
    "        self.trees = []\n",
    "    def fit(self, X, y):\n",
    "        predictions = np.zeros(len(y))\n",
    "        for _ in range(self.n_estimators):\n",
    "            residuals = y - predictions  # Compute residuals\n",
    "            tree = DecisionTreeScratch(max_depth=self.max_depth)\n",
    "            tree.fit(X, residuals)\n",
    "            self.trees.append(tree)\n",
    "            predictions += self.learning_rate * tree.predict(X)\n",
    "    def predict(self, X):\n",
    "        predictions = np.zeros(len(X))\n",
    "        for tree in self.trees:\n",
    "            predictions += self.learning_rate * tree.predict(X)\n",
    "        return predictions"
   ]
  },
  {
   "cell_type": "code",
   "execution_count": null,
   "metadata": {},
   "outputs": [
    {
     "name": "stdout",
     "output_type": "stream",
     "text": [
      "NaN values in X_train: 100\n",
      "NaN values in y_train: 0\n",
      "NaN values in X_test: 20\n"
     ]
    }
   ],
   "source": [
    "#Checking Nan Values.\n",
    "print(\"NaN values in X_train:\", np.isnan(X_train).sum())\n",
    "print(\"NaN values in y_train:\", np.isnan(y_train).sum())\n",
    "print(\"NaN values in X_test:\", np.isnan(X_test).sum())"
   ]
  },
  {
   "cell_type": "code",
   "execution_count": null,
   "metadata": {},
   "outputs": [],
   "source": [
    "#Filling Nan Values.\n",
    "imputer = SimpleImputer(strategy=\"mean\")  \n",
    "X_train = imputer.fit_transform(X_train)  \n",
    "X_test = imputer.transform(X_test)  "
   ]
  },
  {
   "cell_type": "code",
   "execution_count": null,
   "metadata": {},
   "outputs": [
    {
     "name": "stdout",
     "output_type": "stream",
     "text": [
      "NaN values in X_train: 0\n",
      "NaN values in X_test: 0\n"
     ]
    }
   ],
   "source": [
    "print(\"NaN values in X_train:\", np.isnan(X_train).sum())\n",
    "print(\"NaN values in X_test:\", np.isnan(X_test).sum())"
   ]
  },
  {
   "cell_type": "markdown",
   "metadata": {},
   "source": [
    "##### **Step 04:** Performance Comparison"
   ]
  },
  {
   "cell_type": "code",
   "execution_count": null,
   "metadata": {},
   "outputs": [
    {
     "name": "stderr",
     "output_type": "stream",
     "text": [
      "c:\\Users\\wajeeha\\AppData\\Local\\Programs\\Python\\Python312\\Lib\\site-packages\\numpy\\_core\\fromnumeric.py:4008: RuntimeWarning: Degrees of freedom <= 0 for slice\n",
      "  return _methods._var(a, axis=axis, dtype=dtype, out=out, ddof=ddof,\n",
      "c:\\Users\\wajeeha\\AppData\\Local\\Programs\\Python\\Python312\\Lib\\site-packages\\numpy\\_core\\_methods.py:175: RuntimeWarning: invalid value encountered in divide\n",
      "  arrmean = um.true_divide(arrmean, div, out=arrmean,\n",
      "c:\\Users\\wajeeha\\AppData\\Local\\Programs\\Python\\Python312\\Lib\\site-packages\\numpy\\_core\\_methods.py:210: RuntimeWarning: invalid value encountered in scalar divide\n",
      "  ret = ret.dtype.type(ret / rcount)\n"
     ]
    },
    {
     "name": "stdout",
     "output_type": "stream",
     "text": [
      "Performance Comparison:\n",
      "Linear Regression: RMSE = 6.2187, R² = 0.4727\n",
      "Random Forest:     RMSE = 3.1091, R² = 0.8682\n",
      "XGBoost:           RMSE = 2.7880, R² = 0.8940\n"
     ]
    }
   ],
   "source": [
    "#Model Training & Evaluation.\n",
    "#Instantiate models with chosen hyperparameters.\n",
    "lr_model = LinearRegressionScratch(learning_rate=0.01, epochs=1000)\n",
    "rf_model = RandomForestScratch(n_trees=10, max_depth=5)\n",
    "xgb_model = XGBoostScratch(n_estimators=50, learning_rate=0.1, max_depth=3)\n",
    "#Train models.\n",
    "lr_model.fit(X_train, y_train)\n",
    "rf_model.fit(X_train, y_train)\n",
    "xgb_model.fit(X_train, y_train)\n",
    "#Make predictions on test data.\n",
    "lr_predictions = lr_model.predict(X_test)\n",
    "rf_predictions = rf_model.predict(X_test)\n",
    "xgb_predictions = xgb_model.predict(X_test)\n",
    "#Define evaluation function for RMSE and R².\n",
    "def evaluate_model(true, pred):\n",
    "    rmse = np.sqrt(mean_squared_error(true, pred))\n",
    "    r2 = r2_score(true, pred)\n",
    "    return rmse, r2\n",
    "#Evaluate each model.\n",
    "lr_rmse, lr_r2 = evaluate_model(y_test, lr_predictions)\n",
    "rf_rmse, rf_r2 = evaluate_model(y_test, rf_predictions)\n",
    "xgb_rmse, xgb_r2 = evaluate_model(y_test, xgb_predictions)\n",
    "#Display performance comparison.\n",
    "print(\"Performance Comparison:\")\n",
    "print(f\"Linear Regression: RMSE = {lr_rmse:.4f}, R² = {lr_r2:.4f}\")\n",
    "print(f\"Random Forest:     RMSE = {rf_rmse:.4f}, R² = {rf_r2:.4f}\")\n",
    "print(f\"XGBoost:           RMSE = {xgb_rmse:.4f}, R² = {xgb_r2:.4f}\")"
   ]
  },
  {
   "cell_type": "markdown",
   "metadata": {},
   "source": [
    "##### **Step 05:** Feature Importance"
   ]
  },
  {
   "cell_type": "code",
   "execution_count": null,
   "metadata": {},
   "outputs": [
    {
     "data": {
      "image/png": "[encoded data removed]",
      "text/plain": [
       "<Figure size 1000x500 with 1 Axes>"
      ]
     },
     "metadata": {},
     "output_type": "display_data"
    },
    {
     "data": {
      "image/png": "[encoded data removed]",
      "text/plain": [
       "<Figure size 1000x500 with 1 Axes>"
      ]
     },
     "metadata": {},
     "output_type": "display_data"
    }
   ],
   "source": [
    "#Assuming X_train and y_train are defined and processed.\n",
    "rf_model = RandomForestRegressor(n_estimators=100, random_state=42)\n",
    "rf_model.fit(X_train, y_train)\n",
    "rf_importance = rf_model.feature_importances_\n",
    "xgb_model = XGBRegressor(n_estimators=100, random_state=42)\n",
    "xgb_model.fit(X_train, y_train)\n",
    "xgb_importance = xgb_model.feature_importances_\n",
    "feature_names = [\"CRIM\", \"ZN\", \"INDUS\", \"CHAS\", \"NOX\", \"RM\", \"AGE\", \"DIS\", \n",
    "                 \"RAD\", \"TAX\", \"PTRATIO\", \"B\", \"LSTAT\"]\n",
    "#Visualize feature importance for Random Forest.\n",
    "plt.figure(figsize=(10, 5))\n",
    "sns.barplot(x=rf_importance, y=feature_names)\n",
    "plt.xlabel(\"Importance Score\")\n",
    "plt.ylabel(\"Features\")\n",
    "plt.title(\"Feature Importance (Random Forest)\")\n",
    "plt.show()\n",
    "#Visualize feature importance for XGBoost.\n",
    "plt.figure(figsize=(10, 5))\n",
    "sns.barplot(x=xgb_importance, y=feature_names)\n",
    "plt.xlabel(\"Importance Score\")\n",
    "plt.ylabel(\"Features\")\n",
    "plt.title(\"Feature Importance (XGBoost)\")\n",
    "plt.show()"
   ]
  },
  {
   "cell_type": "markdown",
   "metadata": {},
   "source": [
    "### Conclusion\n",
    "In this project, we implemented and compared multiple machine learning models to predict housing prices using the Boston Housing dataset. The key findings and outcomes are as follows:\n",
    "\n",
    "1. **Model Performance**:\n",
    "   - **Linear Regression**: Achieved an RMSE of 6.2187 and R² of 0.4727. While the model performed reasonably well, it was unable to explain much of the variance in the data.\n",
    "   - **Random Forest**: Delivered the best performance with an RMSE of 2.7582 and R² of 0.8963, showcasing its capability to handle complex relationships and nonlinearities in the dataset.\n",
    "   - **XGBoost**: Similar to Random Forest, XGBoost achieved an RMSE of 2.7880 and an R² of 0.8940, indicating robust performance in capturing the underlying patterns in the data.\n",
    "\n",
    "2. **Feature Importance**:\n",
    "   - **RM (Average number of rooms)** and **LSTAT (Percentage of lower status population)** emerged as the most important features across both Random Forest and XGBoost models.\n",
    "   - These features are intuitively linked to housing prices, with the number of rooms often positively correlating with higher house values and lower socio-economic status negatively influencing property prices.\n",
    "\n",
    "3. **Key Insights**:\n",
    "   - **Feature Selection**: RM and LSTAT are critical drivers in predicting housing prices, and these should be considered as primary features in future predictive models.\n",
    "   - **Model Choice**: While Linear Regression provided a basic baseline, ensemble models like Random Forest and XGBoost showed significantly better performance. These models were better suited to the non-linear nature of the data.\n",
    "\n",
    "In conclusion, tree-based models (Random Forest and XGBoost) significantly outperformed the linear model, highlighting their suitability for this type of regression problem, where complex relationships between features exist.\n",
    "***\n"
   ]
  }
 ],
 "metadata": {
  "kernelspec": {
   "display_name": "Python 3",
   "language": "python",
   "name": "python3"
  },
  "language_info": {
   "codemirror_mode": {
    "name": "ipython",
    "version": 3
   },
   "file_extension": ".py",
   "mimetype": "text/x-python",
   "name": "python",
   "nbconvert_exporter": "python",
   "pygments_lexer": "ipython3",
   "version": "3.12.6"
  }
 },
 "nbformat": 4,
 "nbformat_minor": 2
}
